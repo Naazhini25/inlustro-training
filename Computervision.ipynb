{
  "nbformat": 4,
  "nbformat_minor": 0,
  "metadata": {
    "colab": {
      "provenance": []
    },
    "kernelspec": {
      "name": "python3",
      "display_name": "Python 3"
    },
    "language_info": {
      "name": "python"
    }
  },
  "cells": [
    {
      "cell_type": "code",
      "execution_count": 1,
      "metadata": {
        "colab": {
          "base_uri": "https://localhost:8080/"
        },
        "id": "QWt9T7OjkKau",
        "outputId": "8c0f2f96-66c8-463e-bc5a-7b82ba68100a"
      },
      "outputs": [
        {
          "output_type": "stream",
          "name": "stdout",
          "text": [
            "Requirement already satisfied: opencv-python in /usr/local/lib/python3.10/dist-packages (4.10.0.84)\n",
            "Requirement already satisfied: numpy>=1.21.2 in /usr/local/lib/python3.10/dist-packages (from opencv-python) (1.26.4)\n"
          ]
        }
      ],
      "source": [
        "pip install opencv-python"
      ]
    },
    {
      "cell_type": "code",
      "source": [
        "import cv2\n",
        "image = cv2.imread('Pomeranian-1.webp')\n",
        "cv2.imshow('Original Image', image)\n",
        "gray_image = cv2.cvtColor(image, cv2.COLOR_BGR2GRAY)\n",
        "cv2.imshow('Grayscale Image', gray_image)\n",
        "cv2.imwrite('gray_image.jpg',gray_image)\n",
        "cv2.waitkey(0)\n",
        "cv2.destroyAllWindows()\n",
        "import cv2\n",
        "image = cv2.mread('Pomeranian-1.webp')\n",
        "gray_image = cv2.cvtColor(image, cv2.COLOR_BGR2GRAY)\n",
        "cv2.imwrite('Pomeranian-1-gray.webp', gray_image)\n",
        "cv2.imshow('Grayscale Image', gray_image)\n",
        "edges = cv2.Canny(gray_image, 100, 200)\n",
        "cv2.imwrite('Pomeranian-1-edges.webp', edges)\n",
        "cv2.imshow('Edge Detection', edges)\n",
        "cv2.waitKey(0)\n",
        "cv2.destoryAllWindows()\n"
      ],
      "metadata": {
        "id": "BhzCKIBKk-vW"
      },
      "execution_count": null,
      "outputs": []
    }
  ]
}